{
 "cells": [
  {
   "cell_type": "code",
   "execution_count": null,
   "metadata": {},
   "outputs": [],
   "source": []
  },
  {
   "cell_type": "code",
   "execution_count": 77,
   "metadata": {},
   "outputs": [],
   "source": [
    "#定义语法内容,多行字符串，可以三引号，也可以在字符串用转义字符\n",
    "grammar = \"\"\"\n",
    "sentence = num adj noun verb adj noun2\n",
    "num = 一个 | 一群 | 一只\n",
    "adj = adj_single 的 | adj_single 和 adj_single 的 | null\n",
    "adj_single = 漂亮  | 蓝色 | 好看 | 酷炫\n",
    "adv = 安静地 | 静静地\n",
    "noun = 猫 | 女人 | 男人\n",
    "verb = adv 看着 | adv 坐着 \n",
    "noun2 = 桌子 | 皮球 \n",
    "\"\"\"\n",
    "#print(grammar)\n",
    "#grammar = 'sentence = adj noun verb adj noun2\\n adj = adj_single 和 adj_single 的 | null\\n adj_single = 漂亮  | 蓝色 | 好看\\n adv = 安静地 | 静静地\\n noun = 猫 | 女人 | 男人\\n verb = adv 看着 | adv 坐着\\n noun2 = 桌子 | 皮球'\n",
    "#print (grammar)\n"
   ]
  },
  {
   "cell_type": "code",
   "execution_count": 89,
   "metadata": {},
   "outputs": [
    {
     "data": {
      "text/plain": [
       "'一个酷炫的男人静静地看着蓝色的桌子'"
      ]
     },
     "execution_count": 89,
     "metadata": {},
     "output_type": "execute_result"
    }
   ],
   "source": [
    "import random\n",
    "def generate(grammar, target='sentence'):\n",
    "    gramdic = {}\n",
    "    for line in grammar.split('\\n'):\n",
    "        if line:\n",
    "            #print(1)\n",
    "            stat, expr = line.split('=')\n",
    "            #print (stat,expr)\n",
    "            #print ([e.strip() for e in expr.split('|')])\n",
    "            #print (stat.strip())\n",
    "            #print (\"gooo\")\n",
    "            gramdic[stat.strip()] = [e.strip() for e in expr.split('|')]\n",
    "            #gramdic[stat.strip()] = [e.split() for e in expr.split('|')]\n",
    "            #print (stat.strip(),gramdic[stat.strip()]) \n",
    "#老子的递归写法也有点蠢啊，，，，，，，，，，还需要分类讨论\n",
    "    res =''\n",
    "    if isinstance(target, list):\n",
    "        return [generate(grammar, e) for e in target]\n",
    "        #return generate(grammar, ([random.choice(gramdic[e])).split() for e in target]) \n",
    "    if isinstance(target, str):\n",
    "        if target not in gramdic:\n",
    "            return target\n",
    "        else:\n",
    "            return \"\".join(generate(grammar, (random.choice(gramdic[target])).split()))\n",
    "#非递归的写法，有点麻烦\n",
    "'''\n",
    "    u = [target]\n",
    "    res = ''\n",
    "    while u:\n",
    "        t = (u.pop(0))#pop(0)里面参数代表位置，从第一个开始\n",
    "        print (1,t)\n",
    "        if t not in gramdic:\n",
    "            #print('gg')\n",
    "            res = res + t\n",
    "            print(3,res)\n",
    "        else:\n",
    "            t = (random.choice(gramdic[t])).split()\n",
    "            print(2,t)\n",
    "            u = t + u\n",
    "    print (res)\n",
    "    '''\n",
    "\n",
    "\n",
    "generate(grammar)"
   ]
  },
  {
   "cell_type": "code",
   "execution_count": null,
   "metadata": {},
   "outputs": [],
   "source": [
    "senten = num + adj + num = \n",
    "[target] = [sentence] = [[num,adj,num]]"
   ]
  },
  {
   "cell_type": "code",
   "execution_count": 60,
   "metadata": {},
   "outputs": [
    {
     "name": "stdout",
     "output_type": "stream",
     "text": [
      "sentence [['num', 'adj', 'noun', 'verb', 'adj', 'noun2']]\n",
      "num [['一个'], ['一群'], ['一只']]\n",
      "adj [['adj_single的'], ['adj_single和adj_single', '的'], ['null']]\n",
      "adj_single [['漂亮'], ['蓝色'], ['好看'], ['酷炫']]\n",
      "adv [['安静地'], ['静静地']]\n",
      "noun [['猫'], ['女人'], ['男人']]\n",
      "verb [['adv', '看着'], ['adv', '坐着']]\n",
      "noun2 [['桌子'], ['皮球']]\n"
     ]
    },
    {
     "data": {
      "text/plain": [
       "{'adj': [['adj_single的'], ['adj_single和adj_single', '的'], ['null']],\n",
       " 'adj_single': [['漂亮'], ['蓝色'], ['好看'], ['酷炫']],\n",
       " 'adv': [['安静地'], ['静静地']],\n",
       " 'noun': [['猫'], ['女人'], ['男人']],\n",
       " 'noun2': [['桌子'], ['皮球']],\n",
       " 'num': [['一个'], ['一群'], ['一只']],\n",
       " 'sentence': [['num', 'adj', 'noun', 'verb', 'adj', 'noun2']],\n",
       " 'verb': [['adv', '看着'], ['adv', '坐着']]}"
      ]
     },
     "execution_count": 60,
     "metadata": {},
     "output_type": "execute_result"
    }
   ],
   "source": [
    "#定义语法创建函数：从语法内容中读取语法规则并映射到创建的字典，键值为声明，值为表达式\n",
    "def build_grammar(grammar_str, split='='):\n",
    "    grammar_pattern = {}\n",
    "    for line in grammar_str.split('\\n'):\n",
    "        if not line: continue\n",
    "        stmt, expr = line.split(split)\n",
    "        grammar_pattern[stmt.strip()] = [e.split() for e in expr.split('|')]\n",
    "        print(stmt.strip(), grammar_pattern[stmt.strip()] )\n",
    "    return grammar_pattern\n",
    "build_grammar(grammar)"
   ]
  },
  {
   "cell_type": "code",
   "execution_count": 71,
   "metadata": {},
   "outputs": [
    {
     "name": "stdout",
     "output_type": "stream",
     "text": [
      "['a', 'b', 'b']\n"
     ]
    }
   ],
   "source": [
    "a = 'a b b'\n",
    "print (a.split())"
   ]
  },
  {
   "cell_type": "code",
   "execution_count": null,
   "metadata": {},
   "outputs": [],
   "source": []
  }
 ],
 "metadata": {
  "kernelspec": {
   "display_name": "Python 3",
   "language": "python",
   "name": "python3"
  },
  "language_info": {
   "codemirror_mode": {
    "name": "ipython",
    "version": 3
   },
   "file_extension": ".py",
   "mimetype": "text/x-python",
   "name": "python",
   "nbconvert_exporter": "python",
   "pygments_lexer": "ipython3",
   "version": "3.5.2"
  }
 },
 "nbformat": 4,
 "nbformat_minor": 2
}
